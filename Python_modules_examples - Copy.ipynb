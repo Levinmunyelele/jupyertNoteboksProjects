{
 "cells": [
  {
   "cell_type": "markdown",
   "id": "1e8c3b42",
   "metadata": {},
   "source": [
    "<div align=\"center\" style=\" font-size: 80%; text-align: center; margin: 0 auto\">\n",
    "<img src=\"https://raw.githubusercontent.com/Explore-AI/Pictures/master/Python-Notebook-Banners/Examples.png\"  style=\"display: block; margin-left: auto; margin-right: auto;\";/>\n",
    "</div>"
   ]
  },
  {
   "cell_type": "markdown",
   "id": "f662d169",
   "metadata": {},
   "source": [
    "# Examples: Python modules\n",
    "© ExploreAI Academy"
   ]
  },
  {
   "cell_type": "markdown",
   "id": "26af890c",
   "metadata": {},
   "source": [
    "This notebook accompanies the walk-through video on Python modules and packages, and also contains a few additional examples on how we can use modules. \n",
    "\n"
   ]
  },
  {
   "cell_type": "markdown",
   "id": "0e7ee70a",
   "metadata": {},
   "source": [
    "## Learning Objectives\n",
    "In this train we will learn how to:\n",
    "- Write a module and import all or specific objects from a module. \n",
    "- Import modules using an alias name and explore the use of built-in modules.\n",
    "\n",
    "\n",
    "## Outline\n",
    "To do this, we will:\n",
    "- Define the importance of modules and packages in programming.\n",
    "- Review the syntax and conventions for importing modules. \n",
    "- Consider the use of built-in Python modules."
   ]
  },
  {
   "cell_type": "markdown",
   "id": "3562c909",
   "metadata": {},
   "source": [
    "## Introduction\n",
    "Modular programming is a style of programming that promotes code reusability; allowing us to generate single pieces of code which can be used in multiple parts of a project - thus saving time and resources. The resulting code can be simpler to understand and maintain since components can be considered in isolation. In Python, **modularisation** is implemented using functions, modules and packages.\n",
    "\n",
    "A **module** is a file consisting of Python code. A module can define functions, classes, variables and runnable code. These modules can be imported and referenced from other Python code. A **Python package** (also referred to as a library) is a collection of hierarchically structured directories of Python code consisting of sub-packages and modules.\n",
    "\n",
    "Modules and packages are two mechanisms that facilitate modular programming. \n",
    "\n",
    "## Why modularisation? \n",
    "\n",
    "* **Reusability**: Eliminates the need to write new code, as functionality defined in a single module can be easily reused.\n",
    "\n",
    "\n",
    "* **Simplicity**: Modules generally tend to focus on a selected area of the problem which is usually small, rather than focusing on the entire problem at hand. Integrating the use of selected modules will result in systematically dealing with each small problem in the code, making development easier and less error-prone.\n",
    "\n",
    "\n",
    "* **Maintainability**: Modules in Python are often designed to be self-supporting. In this sense, one module does not depend entirely upon other modules to work. Therefore it is unlikely that modifying a single module of a program will affect other parts of the program. This allows a team of many programmers or data scientists to work collaboratively on a large application."
   ]
  },
  {
   "cell_type": "markdown",
   "id": "e7c61c07",
   "metadata": {},
   "source": [
    "## Working with modules  \n",
    "\n",
    "### Creating modules\n",
    "Creating a module is as simply as saving a Python script with functions, classes, variables and running code. The file name is the module name with the suffix `.py` appended.\n",
    "\n",
    "### Importing modules \n",
    "We can access this module and its elements from a different Python file by using the `import` statement. \n",
    "* We can import a single module/package:\n",
    "\n",
    "    ```python\n",
    "    import <module_name>\n",
    "    ```\n",
    "\n",
    "* import multiple modules using individual import statements:\n",
    "\n",
    "    ```python\n",
    "    import <module_1_name>\n",
    "    import <module_2_name>\n",
    "    import <module_3_name>\n",
    "    ...```\n",
    "    \n",
    "    \n",
    "                      \n",
    "The same rules apply when dealing with packages. We can import specific modules within a package by using dot notation. For this to work, we have to structure packages and modules in a way that reflects the hierarchy in the package directory.\n",
    "\n",
    "   ```python\n",
    "    import <package_name>.<sub_package_name>.<module_name>.<...>\n",
    "   ```\n",
    "\n",
    "Let's go ahead and create our own module, with the following 3 types of elements:\n",
    "\n",
    "*   A variable `s`\n",
    "*   A function `say_hi()`\n",
    "*   A class `Greet`"
   ]
  },
  {
   "cell_type": "code",
   "execution_count": 1,
   "id": "e87285b8",
   "metadata": {},
   "outputs": [],
   "source": [
    "# Contents of the module we are creating \n",
    "content = \"\"\"\n",
    "s = 'Hello ' \n",
    "\n",
    "def say_hi(name):\n",
    "    print(s + name)\n",
    "\n",
    "class Greet:\n",
    "    pass\n",
    "\"\"\"\n",
    "\n",
    "# Write the above text to a file called my_module.py\n",
    "# within our current working directory. \n",
    "with open('./my_module.py', 'w') as fp:\n",
    "    fp.write(content)"
   ]
  },
  {
   "cell_type": "markdown",
   "id": "ede20263",
   "metadata": {},
   "source": [
    "This command writes (or saves) our module into our working directory, so that we can use it again."
   ]
  },
  {
   "cell_type": "code",
   "execution_count": 2,
   "id": "b34febe7",
   "metadata": {},
   "outputs": [],
   "source": [
    "#Import the module we've just made! \n",
    "import my_module "
   ]
  },
  {
   "cell_type": "markdown",
   "id": "d623b036",
   "metadata": {},
   "source": [
    "Even though we've imported our module, note that its contents (the variables and functions we've defined within the module) are not directly accessible to us. As such, attempting to access these elements will result in (namespace) errors being thrown. We can safely see such errors using a `try-except` block:"
   ]
  },
  {
   "cell_type": "code",
   "execution_count": 3,
   "id": "86288085",
   "metadata": {},
   "outputs": [
    {
     "name": "stdout",
     "output_type": "stream",
     "text": [
      "Variable 's' does not exist!\n"
     ]
    }
   ],
   "source": [
    "try:\n",
    "    # Try to print the variable s\n",
    "    print(s)\n",
    "except NameError:\n",
    "    # We've caught a NameError exception (error!)\n",
    "    # We inform the programmer (you) that the variable does not exist\n",
    "    print(\"Variable 's' does not exist!\")"
   ]
  },
  {
   "cell_type": "markdown",
   "id": "9b8b6b2e",
   "metadata": {},
   "source": [
    "Learning from this experience, it is important to know that objects in a module are only accessible when prefixed with via dot notation, as illustrated below. "
   ]
  },
  {
   "cell_type": "code",
   "execution_count": 4,
   "id": "e920ba1d",
   "metadata": {},
   "outputs": [
    {
     "data": {
      "text/plain": [
       "'Hello '"
      ]
     },
     "execution_count": 4,
     "metadata": {},
     "output_type": "execute_result"
    }
   ],
   "source": [
    "# Accessing the variable s in my_module\n",
    "my_module.s "
   ]
  },
  {
   "cell_type": "code",
   "execution_count": 5,
   "id": "af5bf12c",
   "metadata": {},
   "outputs": [
    {
     "name": "stdout",
     "output_type": "stream",
     "text": [
      "Hello Nelson\n"
     ]
    }
   ],
   "source": [
    "# Accessing the say_hi function in my_module\n",
    "my_module.say_hi('Nelson')"
   ]
  },
  {
   "cell_type": "markdown",
   "id": "32b5b877",
   "metadata": {},
   "source": [
    "### Example: Importing modules using an alias\n",
    "The `import` statement in Python also allows for the use of aliases when referencing a module. Using the `as` keyword, we can save ourselves from having to type otherwise long package names each time we need to access an object from a given module/ package. This usually follows the following syntax:\n",
    "\n",
    "```python\n",
    "import <module_name> as <new_model_name>\n",
    "```\n",
    "or \n",
    "\n",
    "```python \n",
    "from <package_name> import <module_name> as <new_model_name>\n",
    "```\n",
    "\n",
    "for example:"
   ]
  },
  {
   "cell_type": "code",
   "execution_count": 6,
   "id": "a2253207",
   "metadata": {},
   "outputs": [],
   "source": [
    "# Alias for my_module\n",
    "import my_module as md"
   ]
  },
  {
   "cell_type": "markdown",
   "id": "94a12604",
   "metadata": {},
   "source": [
    "We can thus treat the alias as the new name for the module. "
   ]
  },
  {
   "cell_type": "code",
   "execution_count": 7,
   "id": "01824c3d",
   "metadata": {},
   "outputs": [
    {
     "data": {
      "text/plain": [
       "'Hello '"
      ]
     },
     "execution_count": 7,
     "metadata": {},
     "output_type": "execute_result"
    }
   ],
   "source": [
    "# Accessing the variable s using an alias\n",
    "md.s\n"
   ]
  },
  {
   "cell_type": "code",
   "execution_count": 8,
   "id": "34b57906",
   "metadata": {},
   "outputs": [
    {
     "name": "stdout",
     "output_type": "stream",
     "text": [
      "Hello Jabulani\n"
     ]
    }
   ],
   "source": [
    "# Accessing the say_hi function using an alias for my_module\n",
    "md.say_hi('Jabulani')"
   ]
  },
  {
   "cell_type": "code",
   "execution_count": 9,
   "id": "b5535f78",
   "metadata": {},
   "outputs": [
    {
     "data": {
      "text/plain": [
       "my_module.Greet"
      ]
     },
     "execution_count": 9,
     "metadata": {},
     "output_type": "execute_result"
    }
   ],
   "source": [
    "# Accessing the empty class, Greet\n",
    "md.Greet"
   ]
  },
  {
   "cell_type": "markdown",
   "id": "0c700f86",
   "metadata": {},
   "source": [
    "### Example: Importing modules directly\n",
    "Another way to access specific objects in a module is to use the `from` keyword and import them directly:\n",
    "\n",
    "```python \n",
    "from <module_name> import <x, y, z>\n",
    "``` "
   ]
  },
  {
   "cell_type": "code",
   "execution_count": 10,
   "id": "fe38039e",
   "metadata": {},
   "outputs": [],
   "source": [
    "from my_module import s, say_hi, Greet"
   ]
  },
  {
   "cell_type": "code",
   "execution_count": 11,
   "id": "52f51d01",
   "metadata": {},
   "outputs": [
    {
     "data": {
      "text/plain": [
       "'Hello '"
      ]
     },
     "execution_count": 11,
     "metadata": {},
     "output_type": "execute_result"
    }
   ],
   "source": [
    "s"
   ]
  },
  {
   "cell_type": "code",
   "execution_count": 12,
   "id": "d45550ec",
   "metadata": {},
   "outputs": [
    {
     "name": "stdout",
     "output_type": "stream",
     "text": [
      "Hello Jabulani\n"
     ]
    }
   ],
   "source": [
    "say_hi('Jabulani')"
   ]
  },
  {
   "cell_type": "code",
   "execution_count": 13,
   "id": "6f53499c",
   "metadata": {},
   "outputs": [
    {
     "data": {
      "text/plain": [
       "my_module.Greet"
      ]
     },
     "execution_count": 13,
     "metadata": {},
     "output_type": "execute_result"
    }
   ],
   "source": [
    "Greet"
   ]
  },
  {
   "cell_type": "markdown",
   "id": "e5472586",
   "metadata": {},
   "source": [
    "We can see that using the `from xx import yy` structure provides access to the individual elements in the module without having to use dot notation. However, using aliases is the recommended way of importing modules and packages, as this prevents potential confusion when different modules contain functions or classes with the same name.\n",
    "\n",
    "To select all objects from a module we can use the following command, where the asterisk **( * )** *signifies all* :\n",
    "\n",
    "```python\n",
    "from <module_name> import*\n",
    "```\n",
    "Let's see this in practice one more time: "
   ]
  },
  {
   "cell_type": "code",
   "execution_count": 14,
   "id": "d4083840",
   "metadata": {},
   "outputs": [],
   "source": [
    "from my_module import * "
   ]
  },
  {
   "cell_type": "markdown",
   "id": "c3b09505",
   "metadata": {},
   "source": [
    "Now we have access to all our module contents"
   ]
  },
  {
   "cell_type": "code",
   "execution_count": 15,
   "id": "bb7c4281",
   "metadata": {},
   "outputs": [
    {
     "name": "stdout",
     "output_type": "stream",
     "text": [
      "Hello Joanne\n"
     ]
    }
   ],
   "source": [
    "say_hi('Joanne')"
   ]
  },
  {
   "cell_type": "code",
   "execution_count": 16,
   "id": "712a1bb4",
   "metadata": {},
   "outputs": [
    {
     "data": {
      "text/plain": [
       "my_module.Greet"
      ]
     },
     "execution_count": 16,
     "metadata": {},
     "output_type": "execute_result"
    }
   ],
   "source": [
    "Greet"
   ]
  },
  {
   "cell_type": "markdown",
   "id": "650b646a",
   "metadata": {},
   "source": [
    "## Built-in modules \n",
    "Python contains a large number of what are known as 'built-in' modules. These modules can be accessed in Python programs by simply importing them using their name preceded by the keyword `import`. \n",
    "\n",
    "Each built-in module contains resources for certain system-specific functionalities such as Operating System management, disk Input-Output, etc. Python scripts(with the **.py** extension) containing useful utilities are embedded within the standard library. \n",
    "\n",
    "To **display a list of all available modules**, use the following command:\n",
    "\n",
    "`help('modules')`"
   ]
  },
  {
   "cell_type": "code",
   "execution_count": 17,
   "id": "82f12084",
   "metadata": {
    "scrolled": false
   },
   "outputs": [
    {
     "name": "stdout",
     "output_type": "stream",
     "text": [
      "\n",
      "Please wait a moment while I gather a list of all available modules...\n",
      "\n"
     ]
    },
    {
     "name": "stderr",
     "output_type": "stream",
     "text": [
      "C:\\Users\\lmunyelele.LAPTOP-EHGDV3KH\\anaconda3\\envs\\sql_packages\\Lib\\pkgutil.py:92: UserWarning: The numpy.array_api submodule is still experimental. See NEP 47.\n",
      "  __import__(info.name)\n",
      "C:\\Users\\lmunyelele.LAPTOP-EHGDV3KH\\anaconda3\\envs\\sql_packages\\Lib\\site-packages\\_distutils_hack\\__init__.py:33: UserWarning: Setuptools is replacing distutils.\n",
      "  warnings.warn(\"Setuptools is replacing distutils.\")\n"
     ]
    },
    {
     "name": "stdout",
     "output_type": "stream",
     "text": [
      "pygame 2.5.2 (SDL 2.28.3, Python 3.11.5)\n",
      "Hello from the pygame community. https://www.pygame.org/contribute.html\n"
     ]
    },
    {
     "name": "stderr",
     "output_type": "stream",
     "text": [
      "C:\\Users\\lmunyelele.LAPTOP-EHGDV3KH\\anaconda3\\envs\\sql_packages\\Lib\\pkgutil.py:107: VisibleDeprecationWarning: zmq.eventloop.minitornado is deprecated in pyzmq 14.0 and will be removed.\n",
      "    Install tornado itself to use zmq with the tornado IOLoop.\n",
      "    \n",
      "  yield from walk_packages(path, info.name+'.', onerror)\n"
     ]
    },
    {
     "name": "stdout",
     "output_type": "stream",
     "text": [
      "IPython             bs4                 mmsystem            statistics\n",
      "PIL                 builtins            modulefinder        string\n",
      "__future__          bz2                 mpl_toolkits        stringprep\n",
      "__hello__           cProfile            msilib              struct\n",
      "__phello__          calendar            msvcrt              subprocess\n",
      "_abc                cffi                multiprocessing     sunau\n",
      "_aix_support        cgi                 my_module           symtable\n",
      "_argon2_cffi_bindings cgitb               nbclassic           sys\n",
      "_ast                chunk               nbclient            sysconfig\n",
      "_asyncio            cmath               nbconvert           tabnanny\n",
      "_bisect             cmd                 nbformat            tarfile\n",
      "_blake2             code                nest_asyncio        telnetlib\n",
      "_bootsubprocess     codecs              netbios             tempfile\n",
      "_bz2                codeop              netrc               terminado\n",
      "_cffi_backend       collections         nntplib             test\n",
      "_codecs             colorama            notebook            textwrap\n",
      "_codecs_cn          colorsys            notebook_shim       this\n",
      "_codecs_hk          comm                nt                  threading\n",
      "_codecs_iso2022     commctrl            ntpath              threadpoolctl\n",
      "_codecs_jp          compileall          ntsecuritycon       time\n",
      "_codecs_kr          concurrent          nturl2path          timeit\n",
      "_codecs_tw          configparser        numbers             timer\n",
      "_collections        contextlib          numpy               tinycss2\n",
      "_collections_abc    contextvars         odbc                tkinter\n",
      "_compat_pickle      contourpy           opcode              token\n",
      "_compression        copy                operator            tokenize\n",
      "_contextvars        copyreg             optparse            tomllib\n",
      "_csv                crypt               os                  tornado\n",
      "_ctypes             cryptography        packaging           trace\n",
      "_ctypes_test        csv                 pandas              traceback\n",
      "_datetime           ctypes              pandocfilters       tracemalloc\n",
      "_decimal            curses              parso               traitlets\n",
      "_distutils_hack     cycler              pathlib             tty\n",
      "_elementtree        dataclasses         pdb                 turtle\n",
      "_functools          datetime            perfmon             turtledemo\n",
      "_hashlib            dateutil            pickle              types\n",
      "_heapq              dbi                 pickleshare         typing\n",
      "_imp                dbm                 pickletools         typing_extensions\n",
      "_io                 dde                 pip                 tzdata\n",
      "_json               debugpy             pipes               unicodedata\n",
      "_locale             decimal             pkg_resources       unittest\n",
      "_lsprof             decorator           pkgutil             urllib\n",
      "_lzma               defusedxml          platform            uu\n",
      "_markupbase         difflib             platformdirs        uuid\n",
      "_md5                dis                 plistlib            venv\n",
      "_msi                distutils           poplib              warnings\n",
      "_multibytecodec     doctest             posixpath           wave\n",
      "_multiprocessing    email               pprint              wcwidth\n",
      "_opcode             encodings           prettytable         weakref\n",
      "_operator           ensurepip           profile             webbrowser\n",
      "_osx_support        entrypoints         prometheus_client   webencodings\n",
      "_overlapped         enum                prompt_toolkit      websocket\n",
      "_pickle             errno               pstats              wheel\n",
      "_py_abc             executing           psutil              win2kras\n",
      "_pydecimal          fastjsonschema      pty                 win32api\n",
      "_pyio               faulthandler        pure_eval           win32clipboard\n",
      "_pyrsistent_version filecmp             pvectorc            win32com\n",
      "_queue              fileinput           py_compile          win32con\n",
      "_random             fnmatch             pyclbr              win32console\n",
      "_sha1               fontTools           pycparser           win32cred\n",
      "_sha256             fractions           pydoc               win32crypt\n",
      "_sha3               ftplib              pydoc_data          win32cryptcon\n",
      "_sha512             functools           pyexpat             win32event\n",
      "_signal             gc                  pygame              win32evtlog\n",
      "_sitebuiltins       genericpath         pygments            win32evtlogutil\n",
      "_socket             getopt              pylab               win32file\n",
      "_sqlite3            getpass             pymysql             win32gui\n",
      "_sre                gettext             pyparsing           win32gui_struct\n",
      "_ssl                glob                pyrsistent          win32help\n",
      "_stat               graphlib            pythoncom           win32inet\n",
      "_statistics         greenlet            pytz                win32inetcon\n",
      "_string             gzip                pywin               win32job\n",
      "_strptime           hashlib             pywin32_bootstrap   win32lz\n",
      "_struct             heapq               pywin32_testutil    win32net\n",
      "_symtable           hmac                pywintypes          win32netcon\n",
      "_testbuffer         html                queue               win32pdh\n",
      "_testcapi           http                quopri              win32pdhquery\n",
      "_testconsole        idlelib             random              win32pdhutil\n",
      "_testimportmultiple idna                rasutil             win32pipe\n",
      "_testinternalcapi   imaplib             re                  win32print\n",
      "_testmultiphase     imghdr              regcheck            win32process\n",
      "_thread             imp                 regutil             win32profile\n",
      "_threading_local    importlib           reprlib             win32ras\n",
      "_tkinter            inspect             rlcompleter         win32rcparser\n",
      "_tokenize           io                  runpy               win32security\n",
      "_tracemalloc        ipaddress           sched               win32service\n",
      "_typing             ipykernel           scipy               win32serviceutil\n",
      "_uuid               ipykernel_launcher  seaborn             win32timezone\n",
      "_warnings           ipython_genutils    secrets             win32trace\n",
      "_weakref            isapi               select              win32traceutil\n",
      "_weakrefset         itertools           selectors           win32transaction\n",
      "_win32sysloader     jedi                send2trash          win32ts\n",
      "_winapi             jinja2              servicemanager      win32ui\n",
      "_winxptheme         joblib              setuptools          win32uiole\n",
      "_xxsubinterpreters  json                shelve              win32verstamp\n",
      "_zoneinfo           jsonschema          shlex               win32wnet\n",
      "abc                 jupyter             shutil              winerror\n",
      "adodbapi            jupyter_client      signal              winioctlcon\n",
      "afxres              jupyter_core        site                winnt\n",
      "aifc                jupyter_server      six                 winperf\n",
      "antigravity         jupyterlab_pygments sklearn             winpty\n",
      "anyio               keyword             smtpd               winreg\n",
      "argon2              kiwisolver          smtplib             winsound\n",
      "argparse            lib2to3             sndhdr              winxpgui\n",
      "array               linecache           sniffio             winxptheme\n",
      "ast                 locale              socket              wsgiref\n",
      "asttokens           logging             socketserver        xdrlib\n",
      "asynchat            lxml                soupsieve           xml\n",
      "asyncio             lzma                sql                 xmlrpc\n",
      "asyncore            mailbox             sqlalchemy          xxlimited\n",
      "atexit              mailcap             sqlite3             xxlimited_35\n",
      "attr                markupsafe          sqlparse            xxsubtype\n",
      "attrs               marshal             sre_compile         zipapp\n",
      "audioop             math                sre_constants       zipfile\n",
      "backcall            matplotlib          sre_parse           zipimport\n",
      "base64              matplotlib_inline   ssl                 zlib\n",
      "bdb                 mimetypes           sspi                zmq\n",
      "binascii            mistune             sspicon             zoneinfo\n",
      "bisect              mmap                stack_data          ~qlalchemy\n",
      "bleach              mmapfile            stat                \n",
      "\n",
      "Enter any module name to get more help.  Or, type \"modules spam\" to search\n",
      "for modules whose name or summary contain the string \"spam\".\n",
      "\n"
     ]
    }
   ],
   "source": [
    "help('modules') # this might take a while"
   ]
  },
  {
   "cell_type": "markdown",
   "id": "7e7ff785",
   "metadata": {},
   "source": [
    "Alternatively, the `dir()` function is a built-in function that can be used to **list all the function names (or variable names) in a module**:\n",
    "\n",
    "`dir(module_name)`"
   ]
  },
  {
   "cell_type": "code",
   "execution_count": 18,
   "id": "1d2326d0",
   "metadata": {},
   "outputs": [
    {
     "name": "stdout",
     "output_type": "stream",
     "text": [
      "The square root of 81 is equal to 9.0\n",
      "Functions in the math module: ['__doc__', '__loader__', '__name__', '__package__', '__spec__', 'acos', 'acosh', 'asin', 'asinh', 'atan', 'atan2', 'atanh', 'cbrt', 'ceil', 'comb', 'copysign', 'cos', 'cosh', 'degrees', 'dist', 'e', 'erf', 'erfc', 'exp', 'exp2', 'expm1', 'fabs', 'factorial', 'floor', 'fmod', 'frexp', 'fsum', 'gamma', 'gcd', 'hypot', 'inf', 'isclose', 'isfinite', 'isinf', 'isnan', 'isqrt', 'lcm', 'ldexp', 'lgamma', 'log', 'log10', 'log1p', 'log2', 'modf', 'nan', 'nextafter', 'perm', 'pi', 'pow', 'prod', 'radians', 'remainder', 'sin', 'sinh', 'sqrt', 'tan', 'tanh', 'tau', 'trunc', 'ulp']\n"
     ]
    }
   ],
   "source": [
    "# Import math module \n",
    "import math \n",
    "\n",
    "# Use the sqrt function in the math module\n",
    "x = math.sqrt(81)\n",
    "print('The square root of 81 is equal to {}'.format(x))\n",
    "\n",
    "# List all functions in math module \n",
    "list_all= dir(math)\n",
    "print('Functions in the math module: {}'.format(list_all))"
   ]
  },
  {
   "cell_type": "markdown",
   "id": "e9956efe",
   "metadata": {
    "tags": []
   },
   "source": [
    "## Summary\n",
    "\n",
    "In this train, we learned how to create, import and use modules. We also explored the use of built-in modules in Python and how to determine what functions are present within modules. "
   ]
  },
  {
   "cell_type": "markdown",
   "id": "26fd094b-0fee-46f1-a4b8-73766813c42b",
   "metadata": {
    "tags": []
   },
   "source": [
    "#  \n",
    "\n",
    "<div align=\"center\" style=\" font-size: 80%; text-align: center; margin: 0 auto\">\n",
    "<img src=\"https://raw.githubusercontent.com/Explore-AI/Pictures/master/ExploreAI_logos/EAI_Blue_Dark.png\"  style=\"width:200px\";/>\n",
    "</div>"
   ]
  },
  {
   "cell_type": "code",
   "execution_count": null,
   "id": "58a10cea",
   "metadata": {},
   "outputs": [],
   "source": []
  }
 ],
 "metadata": {
  "kernelspec": {
   "display_name": "Python 3 (ipykernel)",
   "language": "python",
   "name": "python3"
  },
  "language_info": {
   "codemirror_mode": {
    "name": "ipython",
    "version": 3
   },
   "file_extension": ".py",
   "mimetype": "text/x-python",
   "name": "python",
   "nbconvert_exporter": "python",
   "pygments_lexer": "ipython3",
   "version": "3.11.5"
  }
 },
 "nbformat": 4,
 "nbformat_minor": 5
}
